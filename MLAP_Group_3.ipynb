{
  "nbformat": 4,
  "nbformat_minor": 0,
  "metadata": {
    "colab": {
      "name": "MLAP - Group 3",
      "provenance": [],
      "collapsed_sections": []
    },
    "kernelspec": {
      "name": "python3",
      "display_name": "Python 3"
    },
    "language_info": {
      "name": "python"
    }
  },
  "cells": [
    {
      "cell_type": "markdown",
      "metadata": {
        "id": "o-4IFZlWGyUc"
      },
      "source": [
        "**Dataset name:** Car Sales (https://www.kaggle.com/energykingdom/saudi-arabia-car-prices-machine-learning)\n",
        "\n",
        "**Group number:** 3\n",
        "\n",
        "**Group members:**\n",
        "\n",
        "Manas Gangishetti\t20A2HP455\n",
        "\n",
        "Prabhjot Kaur\t20A2HP466\n",
        "\n",
        "Aditya Saxena\t20A2HP445\n",
        "\n",
        "Agam Modi\t20A2HP449\n",
        "\n",
        "Paredhi Gupta\t20A2HP434\n",
        "\n",
        "Keshav Kothari\t20A3HP631\n"
      ]
    },
    {
      "cell_type": "markdown",
      "metadata": {
        "id": "4mPl7Z5UUN0F"
      },
      "source": [
        "# Load Dataset and declare libraries to be used"
      ]
    },
    {
      "cell_type": "code",
      "metadata": {
        "id": "M8TX6hZqUM5a",
        "colab": {
          "base_uri": "https://localhost:8080/"
        },
        "outputId": "52cedcda-0997-44c7-fda5-947f1ed5dc5f"
      },
      "source": [
        "import pandas as pd\n",
        "import numpy as np\n",
        "import matplotlib.pyplot as plt\n",
        "import statsmodels.api as sm\n",
        "from sklearn.model_selection import train_test_split\n",
        "import seaborn as sn"
      ],
      "execution_count": null,
      "outputs": [
        {
          "output_type": "stream",
          "text": [
            "/usr/local/lib/python3.7/dist-packages/statsmodels/tools/_testing.py:19: FutureWarning: pandas.util.testing is deprecated. Use the functions in the public API at pandas.testing instead.\n",
            "  import pandas.util.testing as tm\n"
          ],
          "name": "stderr"
        }
      ]
    },
    {
      "cell_type": "code",
      "metadata": {
        "colab": {
          "base_uri": "https://localhost:8080/",
          "height": 206
        },
        "id": "aTiGImo_UTss",
        "outputId": "4f2278b6-9ceb-4e3f-92fc-d8073783f4df"
      },
      "source": [
        "df = pd.read_csv(\"https://raw.githubusercontent.com/Prabhjotkaur011/mlp2021/main/carscleanS.csv\")\n",
        "df.head()"
      ],
      "execution_count": null,
      "outputs": [
        {
          "output_type": "execute_result",
          "data": {
            "text/html": [
              "<div>\n",
              "<style scoped>\n",
              "    .dataframe tbody tr th:only-of-type {\n",
              "        vertical-align: middle;\n",
              "    }\n",
              "\n",
              "    .dataframe tbody tr th {\n",
              "        vertical-align: top;\n",
              "    }\n",
              "\n",
              "    .dataframe thead th {\n",
              "        text-align: right;\n",
              "    }\n",
              "</style>\n",
              "<table border=\"1\" class=\"dataframe\">\n",
              "  <thead>\n",
              "    <tr style=\"text-align: right;\">\n",
              "      <th></th>\n",
              "      <th>city</th>\n",
              "      <th>car_maker</th>\n",
              "      <th>model</th>\n",
              "      <th>year</th>\n",
              "      <th>condition</th>\n",
              "      <th>kilometers</th>\n",
              "      <th>transmission</th>\n",
              "      <th>fuel</th>\n",
              "      <th>color</th>\n",
              "      <th>pay_method</th>\n",
              "      <th>price</th>\n",
              "    </tr>\n",
              "  </thead>\n",
              "  <tbody>\n",
              "    <tr>\n",
              "      <th>0</th>\n",
              "      <td>Al Riyadh</td>\n",
              "      <td>Toyota</td>\n",
              "      <td>Rush</td>\n",
              "      <td>2019</td>\n",
              "      <td>Used</td>\n",
              "      <td>14999.5</td>\n",
              "      <td>Automatic</td>\n",
              "      <td>Gasoline</td>\n",
              "      <td>White</td>\n",
              "      <td>Cash or Installments</td>\n",
              "      <td>58375.0</td>\n",
              "    </tr>\n",
              "    <tr>\n",
              "      <th>1</th>\n",
              "      <td>Al Riyadh</td>\n",
              "      <td>Kia</td>\n",
              "      <td>Carnival</td>\n",
              "      <td>2006</td>\n",
              "      <td>Used</td>\n",
              "      <td>0.0</td>\n",
              "      <td>Automatic</td>\n",
              "      <td>Gasoline</td>\n",
              "      <td>Grey</td>\n",
              "      <td>Cash Only</td>\n",
              "      <td>10000.0</td>\n",
              "    </tr>\n",
              "    <tr>\n",
              "      <th>2</th>\n",
              "      <td>Al Riyadh</td>\n",
              "      <td>Toyota</td>\n",
              "      <td>Camry</td>\n",
              "      <td>2014</td>\n",
              "      <td>Used</td>\n",
              "      <td>24999.5</td>\n",
              "      <td>Automatic</td>\n",
              "      <td>Gasoline</td>\n",
              "      <td>White</td>\n",
              "      <td>Installments Only</td>\n",
              "      <td>58375.0</td>\n",
              "    </tr>\n",
              "    <tr>\n",
              "      <th>3</th>\n",
              "      <td>Al Riyadh</td>\n",
              "      <td>Ford</td>\n",
              "      <td>Fusion</td>\n",
              "      <td>2010</td>\n",
              "      <td>Used</td>\n",
              "      <td>200000.0</td>\n",
              "      <td>Automatic</td>\n",
              "      <td>Gasoline</td>\n",
              "      <td>White</td>\n",
              "      <td>Cash Only</td>\n",
              "      <td>22425.4</td>\n",
              "    </tr>\n",
              "    <tr>\n",
              "      <th>4</th>\n",
              "      <td>Al Riyadh</td>\n",
              "      <td>Ford</td>\n",
              "      <td>Taurus</td>\n",
              "      <td>2018</td>\n",
              "      <td>Used</td>\n",
              "      <td>5000.0</td>\n",
              "      <td>Automatic</td>\n",
              "      <td>Gasoline</td>\n",
              "      <td>Grey</td>\n",
              "      <td>Cash Only</td>\n",
              "      <td>22425.4</td>\n",
              "    </tr>\n",
              "  </tbody>\n",
              "</table>\n",
              "</div>"
            ],
            "text/plain": [
              "        city car_maker     model  ...  color            pay_method    price\n",
              "0  Al Riyadh    Toyota      Rush  ...  White  Cash or Installments  58375.0\n",
              "1  Al Riyadh       Kia  Carnival  ...   Grey             Cash Only  10000.0\n",
              "2  Al Riyadh    Toyota     Camry  ...  White     Installments Only  58375.0\n",
              "3  Al Riyadh      Ford    Fusion  ...  White             Cash Only  22425.4\n",
              "4  Al Riyadh      Ford    Taurus  ...   Grey             Cash Only  22425.4\n",
              "\n",
              "[5 rows x 11 columns]"
            ]
          },
          "metadata": {},
          "execution_count": 2
        }
      ]
    },
    {
      "cell_type": "markdown",
      "metadata": {
        "id": "L0Br8p0qUgXH"
      },
      "source": [
        "# Describe data in dataset"
      ]
    },
    {
      "cell_type": "code",
      "metadata": {
        "colab": {
          "base_uri": "https://localhost:8080/",
          "height": 300
        },
        "id": "xKAxrJfCUa4N",
        "outputId": "1704d061-7fa8-4df6-efeb-e0d9700810fb"
      },
      "source": [
        "df.describe()"
      ],
      "execution_count": null,
      "outputs": [
        {
          "output_type": "execute_result",
          "data": {
            "text/html": [
              "<div>\n",
              "<style scoped>\n",
              "    .dataframe tbody tr th:only-of-type {\n",
              "        vertical-align: middle;\n",
              "    }\n",
              "\n",
              "    .dataframe tbody tr th {\n",
              "        vertical-align: top;\n",
              "    }\n",
              "\n",
              "    .dataframe thead th {\n",
              "        text-align: right;\n",
              "    }\n",
              "</style>\n",
              "<table border=\"1\" class=\"dataframe\">\n",
              "  <thead>\n",
              "    <tr style=\"text-align: right;\">\n",
              "      <th></th>\n",
              "      <th>year</th>\n",
              "      <th>kilometers</th>\n",
              "      <th>price</th>\n",
              "    </tr>\n",
              "  </thead>\n",
              "  <tbody>\n",
              "    <tr>\n",
              "      <th>count</th>\n",
              "      <td>560.000000</td>\n",
              "      <td>560.000000</td>\n",
              "      <td>560.000000</td>\n",
              "    </tr>\n",
              "    <tr>\n",
              "      <th>mean</th>\n",
              "      <td>2011.857143</td>\n",
              "      <td>120535.482143</td>\n",
              "      <td>37521.064286</td>\n",
              "    </tr>\n",
              "    <tr>\n",
              "      <th>std</th>\n",
              "      <td>3.892236</td>\n",
              "      <td>81305.837563</td>\n",
              "      <td>27022.610673</td>\n",
              "    </tr>\n",
              "    <tr>\n",
              "      <th>min</th>\n",
              "      <td>2006.000000</td>\n",
              "      <td>0.000000</td>\n",
              "      <td>2114.000000</td>\n",
              "    </tr>\n",
              "    <tr>\n",
              "      <th>25%</th>\n",
              "      <td>2008.000000</td>\n",
              "      <td>39999.500000</td>\n",
              "      <td>19000.000000</td>\n",
              "    </tr>\n",
              "    <tr>\n",
              "      <th>50%</th>\n",
              "      <td>2012.500000</td>\n",
              "      <td>149999.500000</td>\n",
              "      <td>27500.000000</td>\n",
              "    </tr>\n",
              "    <tr>\n",
              "      <th>75%</th>\n",
              "      <td>2014.250000</td>\n",
              "      <td>200000.000000</td>\n",
              "      <td>58375.000000</td>\n",
              "    </tr>\n",
              "    <tr>\n",
              "      <th>max</th>\n",
              "      <td>2019.000000</td>\n",
              "      <td>200000.000000</td>\n",
              "      <td>100000.000000</td>\n",
              "    </tr>\n",
              "  </tbody>\n",
              "</table>\n",
              "</div>"
            ],
            "text/plain": [
              "              year     kilometers          price\n",
              "count   560.000000     560.000000     560.000000\n",
              "mean   2011.857143  120535.482143   37521.064286\n",
              "std       3.892236   81305.837563   27022.610673\n",
              "min    2006.000000       0.000000    2114.000000\n",
              "25%    2008.000000   39999.500000   19000.000000\n",
              "50%    2012.500000  149999.500000   27500.000000\n",
              "75%    2014.250000  200000.000000   58375.000000\n",
              "max    2019.000000  200000.000000  100000.000000"
            ]
          },
          "metadata": {},
          "execution_count": 3
        }
      ]
    },
    {
      "cell_type": "code",
      "metadata": {
        "colab": {
          "base_uri": "https://localhost:8080/"
        },
        "id": "J5slr5EGUmS1",
        "outputId": "fb69428c-07f9-4b4b-b4c8-f1374cd1ec65"
      },
      "source": [
        "df.info()"
      ],
      "execution_count": null,
      "outputs": [
        {
          "output_type": "stream",
          "text": [
            "<class 'pandas.core.frame.DataFrame'>\n",
            "RangeIndex: 560 entries, 0 to 559\n",
            "Data columns (total 11 columns):\n",
            " #   Column        Non-Null Count  Dtype  \n",
            "---  ------        --------------  -----  \n",
            " 0   city          560 non-null    object \n",
            " 1   car_maker     560 non-null    object \n",
            " 2   model         560 non-null    object \n",
            " 3   year          560 non-null    int64  \n",
            " 4   condition     560 non-null    object \n",
            " 5   kilometers    560 non-null    float64\n",
            " 6   transmission  560 non-null    object \n",
            " 7   fuel          560 non-null    object \n",
            " 8   color         560 non-null    object \n",
            " 9   pay_method    560 non-null    object \n",
            " 10  price         560 non-null    float64\n",
            "dtypes: float64(2), int64(1), object(8)\n",
            "memory usage: 48.2+ KB\n"
          ],
          "name": "stdout"
        }
      ]
    },
    {
      "cell_type": "markdown",
      "metadata": {
        "id": "uE6XsOPPVqgS"
      },
      "source": [
        "## Feature engineering"
      ]
    },
    {
      "cell_type": "code",
      "metadata": {
        "colab": {
          "base_uri": "https://localhost:8080/",
          "height": 279
        },
        "id": "Iqx-0OpA0s09",
        "outputId": "4dd05465-f73d-47d7-c72c-8abea98d366c"
      },
      "source": [
        "plt.hist(df.price, bins=20, rwidth=0.8)\n",
        "plt.xlabel('Price of car')\n",
        "plt.ylabel('Count')\n",
        "plt.show()"
      ],
      "execution_count": null,
      "outputs": [
        {
          "output_type": "display_data",
          "data": {
            "image/png": "[encoded data removed]",
            "text/plain": [
              "<Figure size 432x288 with 1 Axes>"
            ]
          },
          "metadata": {
            "needs_background": "light"
          }
        }
      ]
    },
    {
      "cell_type": "code",
      "metadata": {
        "colab": {
          "base_uri": "https://localhost:8080/",
          "height": 366
        },
        "id": "k1Jjm6j_1NyP",
        "outputId": "49291e54-4ab9-4e24-9d45-f5ecd5719047"
      },
      "source": [
        "sn.distplot(df['price'])"
      ],
      "execution_count": null,
      "outputs": [
        {
          "output_type": "stream",
          "text": [
            "/usr/local/lib/python3.7/dist-packages/seaborn/distributions.py:2557: FutureWarning: `distplot` is a deprecated function and will be removed in a future version. Please adapt your code to use either `displot` (a figure-level function with similar flexibility) or `histplot` (an axes-level function for histograms).\n",
            "  warnings.warn(msg, FutureWarning)\n"
          ],
          "name": "stderr"
        },
        {
          "output_type": "execute_result",
          "data": {
            "text/plain": [
              "<matplotlib.axes._subplots.AxesSubplot at 0x7f868ed28f50>"
            ]
          },
          "metadata": {},
          "execution_count": 7
        },
        {
          "output_type": "display_data",
          "data": {
            "image/png": "[encoded data removed]",
            "text/plain": [
              "<Figure size 432x288 with 1 Axes>"
            ]
          },
          "metadata": {
            "needs_background": "light"
          }
        }
      ]
    },
    {
      "cell_type": "code",
      "metadata": {
        "colab": {
          "base_uri": "https://localhost:8080/",
          "height": 265
        },
        "id": "UOX4ux-h1f-6",
        "outputId": "c22c5cb4-13d5-41bb-8f42-c589da26bd7a"
      },
      "source": [
        "box=plt.boxplot(df['price'])"
      ],
      "execution_count": null,
      "outputs": [
        {
          "output_type": "display_data",
          "data": {
            "image/png": "[encoded data removed]",
            "text/plain": [
              "<Figure size 432x288 with 1 Axes>"
            ]
          },
          "metadata": {
            "needs_background": "light"
          }
        }
      ]
    },
    {
      "cell_type": "code",
      "metadata": {
        "colab": {
          "base_uri": "https://localhost:8080/",
          "height": 298
        },
        "id": "hnaoeTDO8bYo",
        "outputId": "8932459f-29f0-4ac1-da41-fa0c176e0bf4"
      },
      "source": [
        "sn.barplot(x='color',y=df['price'],data=df)"
      ],
      "execution_count": null,
      "outputs": [
        {
          "output_type": "execute_result",
          "data": {
            "text/plain": [
              "<matplotlib.axes._subplots.AxesSubplot at 0x7f868b9a6390>"
            ]
          },
          "metadata": {},
          "execution_count": 9
        },
        {
          "output_type": "display_data",
          "data": {
            "image/png": "[encoded data removed]",
            "text/plain": [
              "<Figure size 432x288 with 1 Axes>"
            ]
          },
          "metadata": {
            "needs_background": "light"
          }
        }
      ]
    },
    {
      "cell_type": "code",
      "metadata": {
        "colab": {
          "base_uri": "https://localhost:8080/",
          "height": 298
        },
        "id": "kqWypILz8liI",
        "outputId": "be2a3fa4-a9c0-4ffd-bdd4-b22afa8fce99"
      },
      "source": [
        "sn.barplot(x='transmission',y=df['price'],data=df)"
      ],
      "execution_count": null,
      "outputs": [
        {
          "output_type": "execute_result",
          "data": {
            "text/plain": [
              "<matplotlib.axes._subplots.AxesSubplot at 0x7f868b8cb650>"
            ]
          },
          "metadata": {},
          "execution_count": 10
        },
        {
          "output_type": "display_data",
          "data": {
            "image/png": "[encoded data removed]",
            "text/plain": [
              "<Figure size 432x288 with 1 Axes>"
            ]
          },
          "metadata": {
            "needs_background": "light"
          }
        }
      ]
    },
    {
      "cell_type": "code",
      "metadata": {
        "colab": {
          "base_uri": "https://localhost:8080/",
          "height": 299
        },
        "id": "6okJ16Wj8pu-",
        "outputId": "22241350-33b5-4575-c911-6ed8d321a44c"
      },
      "source": [
        "sn.barplot(x='pay_method',y='price',data=df)"
      ],
      "execution_count": null,
      "outputs": [
        {
          "output_type": "execute_result",
          "data": {
            "text/plain": [
              "<matplotlib.axes._subplots.AxesSubplot at 0x7f868b8ac850>"
            ]
          },
          "metadata": {},
          "execution_count": 11
        },
        {
          "output_type": "display_data",
          "data": {
            "image/png": "[encoded data removed]",
            "text/plain": [
              "<Figure size 432x288 with 1 Axes>"
            ]
          },
          "metadata": {
            "needs_background": "light"
          }
        }
      ]
    },
    {
      "cell_type": "code",
      "metadata": {
        "colab": {
          "base_uri": "https://localhost:8080/",
          "height": 424
        },
        "id": "mGdMpZ7C9Cp5",
        "outputId": "bb4218b3-1005-45c5-ab50-4310b36ae25c"
      },
      "source": [
        "df.dropna(axis = 1)"
      ],
      "execution_count": null,
      "outputs": [
        {
          "output_type": "execute_result",
          "data": {
            "text/html": [
              "<div>\n",
              "<style scoped>\n",
              "    .dataframe tbody tr th:only-of-type {\n",
              "        vertical-align: middle;\n",
              "    }\n",
              "\n",
              "    .dataframe tbody tr th {\n",
              "        vertical-align: top;\n",
              "    }\n",
              "\n",
              "    .dataframe thead th {\n",
              "        text-align: right;\n",
              "    }\n",
              "</style>\n",
              "<table border=\"1\" class=\"dataframe\">\n",
              "  <thead>\n",
              "    <tr style=\"text-align: right;\">\n",
              "      <th></th>\n",
              "      <th>city</th>\n",
              "      <th>car_maker</th>\n",
              "      <th>model</th>\n",
              "      <th>year</th>\n",
              "      <th>condition</th>\n",
              "      <th>kilometers</th>\n",
              "      <th>transmission</th>\n",
              "      <th>fuel</th>\n",
              "      <th>color</th>\n",
              "      <th>pay_method</th>\n",
              "      <th>price</th>\n",
              "    </tr>\n",
              "  </thead>\n",
              "  <tbody>\n",
              "    <tr>\n",
              "      <th>0</th>\n",
              "      <td>Al Riyadh</td>\n",
              "      <td>Toyota</td>\n",
              "      <td>Rush</td>\n",
              "      <td>2019</td>\n",
              "      <td>Used</td>\n",
              "      <td>14999.5</td>\n",
              "      <td>Automatic</td>\n",
              "      <td>Gasoline</td>\n",
              "      <td>White</td>\n",
              "      <td>Cash or Installments</td>\n",
              "      <td>58375.0</td>\n",
              "    </tr>\n",
              "    <tr>\n",
              "      <th>1</th>\n",
              "      <td>Al Riyadh</td>\n",
              "      <td>Kia</td>\n",
              "      <td>Carnival</td>\n",
              "      <td>2006</td>\n",
              "      <td>Used</td>\n",
              "      <td>0.0</td>\n",
              "      <td>Automatic</td>\n",
              "      <td>Gasoline</td>\n",
              "      <td>Grey</td>\n",
              "      <td>Cash Only</td>\n",
              "      <td>10000.0</td>\n",
              "    </tr>\n",
              "    <tr>\n",
              "      <th>2</th>\n",
              "      <td>Al Riyadh</td>\n",
              "      <td>Toyota</td>\n",
              "      <td>Camry</td>\n",
              "      <td>2014</td>\n",
              "      <td>Used</td>\n",
              "      <td>24999.5</td>\n",
              "      <td>Automatic</td>\n",
              "      <td>Gasoline</td>\n",
              "      <td>White</td>\n",
              "      <td>Installments Only</td>\n",
              "      <td>58375.0</td>\n",
              "    </tr>\n",
              "    <tr>\n",
              "      <th>3</th>\n",
              "      <td>Al Riyadh</td>\n",
              "      <td>Ford</td>\n",
              "      <td>Fusion</td>\n",
              "      <td>2010</td>\n",
              "      <td>Used</td>\n",
              "      <td>200000.0</td>\n",
              "      <td>Automatic</td>\n",
              "      <td>Gasoline</td>\n",
              "      <td>White</td>\n",
              "      <td>Cash Only</td>\n",
              "      <td>22425.4</td>\n",
              "    </tr>\n",
              "    <tr>\n",
              "      <th>4</th>\n",
              "      <td>Al Riyadh</td>\n",
              "      <td>Ford</td>\n",
              "      <td>Taurus</td>\n",
              "      <td>2018</td>\n",
              "      <td>Used</td>\n",
              "      <td>5000.0</td>\n",
              "      <td>Automatic</td>\n",
              "      <td>Gasoline</td>\n",
              "      <td>Grey</td>\n",
              "      <td>Cash Only</td>\n",
              "      <td>22425.4</td>\n",
              "    </tr>\n",
              "    <tr>\n",
              "      <th>...</th>\n",
              "      <td>...</td>\n",
              "      <td>...</td>\n",
              "      <td>...</td>\n",
              "      <td>...</td>\n",
              "      <td>...</td>\n",
              "      <td>...</td>\n",
              "      <td>...</td>\n",
              "      <td>...</td>\n",
              "      <td>...</td>\n",
              "      <td>...</td>\n",
              "      <td>...</td>\n",
              "    </tr>\n",
              "    <tr>\n",
              "      <th>555</th>\n",
              "      <td>Al Riyadh</td>\n",
              "      <td>Dodge</td>\n",
              "      <td>Durango</td>\n",
              "      <td>2012</td>\n",
              "      <td>Used</td>\n",
              "      <td>200000.0</td>\n",
              "      <td>Automatic</td>\n",
              "      <td>Gasoline</td>\n",
              "      <td>Grey</td>\n",
              "      <td>Cash Only</td>\n",
              "      <td>35000.0</td>\n",
              "    </tr>\n",
              "    <tr>\n",
              "      <th>556</th>\n",
              "      <td>Al Riyadh</td>\n",
              "      <td>Kia</td>\n",
              "      <td>Rio</td>\n",
              "      <td>2015</td>\n",
              "      <td>Used</td>\n",
              "      <td>44999.5</td>\n",
              "      <td>Automatic</td>\n",
              "      <td>Gasoline</td>\n",
              "      <td>Beige</td>\n",
              "      <td>Cash Only</td>\n",
              "      <td>10000.0</td>\n",
              "    </tr>\n",
              "    <tr>\n",
              "      <th>557</th>\n",
              "      <td>Al Riyadh</td>\n",
              "      <td>BMW</td>\n",
              "      <td>730</td>\n",
              "      <td>2014</td>\n",
              "      <td>Used</td>\n",
              "      <td>114999.5</td>\n",
              "      <td>Automatic</td>\n",
              "      <td>Gasoline</td>\n",
              "      <td>Brown</td>\n",
              "      <td>Cash Only</td>\n",
              "      <td>100000.0</td>\n",
              "    </tr>\n",
              "    <tr>\n",
              "      <th>558</th>\n",
              "      <td>Al Riyadh</td>\n",
              "      <td>Suzuki</td>\n",
              "      <td>Other</td>\n",
              "      <td>2013</td>\n",
              "      <td>Used</td>\n",
              "      <td>14999.5</td>\n",
              "      <td>Manual</td>\n",
              "      <td>Gasoline</td>\n",
              "      <td>White</td>\n",
              "      <td>Cash Only</td>\n",
              "      <td>24000.0</td>\n",
              "    </tr>\n",
              "    <tr>\n",
              "      <th>559</th>\n",
              "      <td>Al Riyadh</td>\n",
              "      <td>Toyota</td>\n",
              "      <td>Fortuner</td>\n",
              "      <td>2016</td>\n",
              "      <td>Used</td>\n",
              "      <td>64999.5</td>\n",
              "      <td>Automatic</td>\n",
              "      <td>Gasoline</td>\n",
              "      <td>White</td>\n",
              "      <td>Cash Only</td>\n",
              "      <td>94000.0</td>\n",
              "    </tr>\n",
              "  </tbody>\n",
              "</table>\n",
              "<p>560 rows × 11 columns</p>\n",
              "</div>"
            ],
            "text/plain": [
              "          city car_maker     model  ...  color            pay_method     price\n",
              "0    Al Riyadh    Toyota      Rush  ...  White  Cash or Installments   58375.0\n",
              "1    Al Riyadh       Kia  Carnival  ...   Grey             Cash Only   10000.0\n",
              "2    Al Riyadh    Toyota     Camry  ...  White     Installments Only   58375.0\n",
              "3    Al Riyadh      Ford    Fusion  ...  White             Cash Only   22425.4\n",
              "4    Al Riyadh      Ford    Taurus  ...   Grey             Cash Only   22425.4\n",
              "..         ...       ...       ...  ...    ...                   ...       ...\n",
              "555  Al Riyadh     Dodge   Durango  ...   Grey             Cash Only   35000.0\n",
              "556  Al Riyadh       Kia       Rio  ...  Beige             Cash Only   10000.0\n",
              "557  Al Riyadh       BMW       730  ...  Brown             Cash Only  100000.0\n",
              "558  Al Riyadh    Suzuki     Other  ...  White             Cash Only   24000.0\n",
              "559  Al Riyadh    Toyota  Fortuner  ...  White             Cash Only   94000.0\n",
              "\n",
              "[560 rows x 11 columns]"
            ]
          },
          "metadata": {},
          "execution_count": 12
        }
      ]
    },
    {
      "cell_type": "code",
      "metadata": {
        "id": "-lcveFYv3cCt"
      },
      "source": [
        "df.drop(columns=['city', 'car_maker', 'model', 'fuel'], axis = 1, inplace=True)"
      ],
      "execution_count": null,
      "outputs": []
    },
    {
      "cell_type": "code",
      "metadata": {
        "colab": {
          "base_uri": "https://localhost:8080/",
          "height": 424
        },
        "id": "i3awKeCI3w9o",
        "outputId": "147f8dc3-bfa7-4c5e-acac-48a4d90694bf"
      },
      "source": [
        "df"
      ],
      "execution_count": null,
      "outputs": [
        {
          "output_type": "execute_result",
          "data": {
            "text/html": [
              "<div>\n",
              "<style scoped>\n",
              "    .dataframe tbody tr th:only-of-type {\n",
              "        vertical-align: middle;\n",
              "    }\n",
              "\n",
              "    .dataframe tbody tr th {\n",
              "        vertical-align: top;\n",
              "    }\n",
              "\n",
              "    .dataframe thead th {\n",
              "        text-align: right;\n",
              "    }\n",
              "</style>\n",
              "<table border=\"1\" class=\"dataframe\">\n",
              "  <thead>\n",
              "    <tr style=\"text-align: right;\">\n",
              "      <th></th>\n",
              "      <th>year</th>\n",
              "      <th>condition</th>\n",
              "      <th>kilometers</th>\n",
              "      <th>transmission</th>\n",
              "      <th>color</th>\n",
              "      <th>pay_method</th>\n",
              "      <th>price</th>\n",
              "    </tr>\n",
              "  </thead>\n",
              "  <tbody>\n",
              "    <tr>\n",
              "      <th>0</th>\n",
              "      <td>2019</td>\n",
              "      <td>Used</td>\n",
              "      <td>14999.5</td>\n",
              "      <td>Automatic</td>\n",
              "      <td>White</td>\n",
              "      <td>Cash or Installments</td>\n",
              "      <td>58375.0</td>\n",
              "    </tr>\n",
              "    <tr>\n",
              "      <th>1</th>\n",
              "      <td>2006</td>\n",
              "      <td>Used</td>\n",
              "      <td>0.0</td>\n",
              "      <td>Automatic</td>\n",
              "      <td>Grey</td>\n",
              "      <td>Cash Only</td>\n",
              "      <td>10000.0</td>\n",
              "    </tr>\n",
              "    <tr>\n",
              "      <th>2</th>\n",
              "      <td>2014</td>\n",
              "      <td>Used</td>\n",
              "      <td>24999.5</td>\n",
              "      <td>Automatic</td>\n",
              "      <td>White</td>\n",
              "      <td>Installments Only</td>\n",
              "      <td>58375.0</td>\n",
              "    </tr>\n",
              "    <tr>\n",
              "      <th>3</th>\n",
              "      <td>2010</td>\n",
              "      <td>Used</td>\n",
              "      <td>200000.0</td>\n",
              "      <td>Automatic</td>\n",
              "      <td>White</td>\n",
              "      <td>Cash Only</td>\n",
              "      <td>22425.4</td>\n",
              "    </tr>\n",
              "    <tr>\n",
              "      <th>4</th>\n",
              "      <td>2018</td>\n",
              "      <td>Used</td>\n",
              "      <td>5000.0</td>\n",
              "      <td>Automatic</td>\n",
              "      <td>Grey</td>\n",
              "      <td>Cash Only</td>\n",
              "      <td>22425.4</td>\n",
              "    </tr>\n",
              "    <tr>\n",
              "      <th>...</th>\n",
              "      <td>...</td>\n",
              "      <td>...</td>\n",
              "      <td>...</td>\n",
              "      <td>...</td>\n",
              "      <td>...</td>\n",
              "      <td>...</td>\n",
              "      <td>...</td>\n",
              "    </tr>\n",
              "    <tr>\n",
              "      <th>555</th>\n",
              "      <td>2012</td>\n",
              "      <td>Used</td>\n",
              "      <td>200000.0</td>\n",
              "      <td>Automatic</td>\n",
              "      <td>Grey</td>\n",
              "      <td>Cash Only</td>\n",
              "      <td>35000.0</td>\n",
              "    </tr>\n",
              "    <tr>\n",
              "      <th>556</th>\n",
              "      <td>2015</td>\n",
              "      <td>Used</td>\n",
              "      <td>44999.5</td>\n",
              "      <td>Automatic</td>\n",
              "      <td>Beige</td>\n",
              "      <td>Cash Only</td>\n",
              "      <td>10000.0</td>\n",
              "    </tr>\n",
              "    <tr>\n",
              "      <th>557</th>\n",
              "      <td>2014</td>\n",
              "      <td>Used</td>\n",
              "      <td>114999.5</td>\n",
              "      <td>Automatic</td>\n",
              "      <td>Brown</td>\n",
              "      <td>Cash Only</td>\n",
              "      <td>100000.0</td>\n",
              "    </tr>\n",
              "    <tr>\n",
              "      <th>558</th>\n",
              "      <td>2013</td>\n",
              "      <td>Used</td>\n",
              "      <td>14999.5</td>\n",
              "      <td>Manual</td>\n",
              "      <td>White</td>\n",
              "      <td>Cash Only</td>\n",
              "      <td>24000.0</td>\n",
              "    </tr>\n",
              "    <tr>\n",
              "      <th>559</th>\n",
              "      <td>2016</td>\n",
              "      <td>Used</td>\n",
              "      <td>64999.5</td>\n",
              "      <td>Automatic</td>\n",
              "      <td>White</td>\n",
              "      <td>Cash Only</td>\n",
              "      <td>94000.0</td>\n",
              "    </tr>\n",
              "  </tbody>\n",
              "</table>\n",
              "<p>560 rows × 7 columns</p>\n",
              "</div>"
            ],
            "text/plain": [
              "     year condition  kilometers  ...  color            pay_method     price\n",
              "0    2019      Used     14999.5  ...  White  Cash or Installments   58375.0\n",
              "1    2006      Used         0.0  ...   Grey             Cash Only   10000.0\n",
              "2    2014      Used     24999.5  ...  White     Installments Only   58375.0\n",
              "3    2010      Used    200000.0  ...  White             Cash Only   22425.4\n",
              "4    2018      Used      5000.0  ...   Grey             Cash Only   22425.4\n",
              "..    ...       ...         ...  ...    ...                   ...       ...\n",
              "555  2012      Used    200000.0  ...   Grey             Cash Only   35000.0\n",
              "556  2015      Used     44999.5  ...  Beige             Cash Only   10000.0\n",
              "557  2014      Used    114999.5  ...  Brown             Cash Only  100000.0\n",
              "558  2013      Used     14999.5  ...  White             Cash Only   24000.0\n",
              "559  2016      Used     64999.5  ...  White             Cash Only   94000.0\n",
              "\n",
              "[560 rows x 7 columns]"
            ]
          },
          "metadata": {},
          "execution_count": 14
        }
      ]
    },
    {
      "cell_type": "markdown",
      "metadata": {
        "id": "bON40l7E3TFL"
      },
      "source": [
        "# Model Building"
      ]
    },
    {
      "cell_type": "code",
      "metadata": {
        "id": "K7FjG7xB_yjy"
      },
      "source": [
        "y = df['price']"
      ],
      "execution_count": null,
      "outputs": []
    },
    {
      "cell_type": "code",
      "metadata": {
        "id": "Cou9PUfLA3yn"
      },
      "source": [
        "X_features = ['year', 'condition', 'kilometers', 'transmission', 'color', 'pay_method']"
      ],
      "execution_count": null,
      "outputs": []
    },
    {
      "cell_type": "code",
      "metadata": {
        "id": "nVlTMbtABFcL"
      },
      "source": [
        "categorical_var = ['condition', 'transmission', 'color', 'pay_method']"
      ],
      "execution_count": null,
      "outputs": []
    },
    {
      "cell_type": "code",
      "metadata": {
        "id": "DFV02ho2BV9w"
      },
      "source": [
        "df_encoded = pd.get_dummies(df[X_features], columns = categorical_var, drop_first = True)"
      ],
      "execution_count": null,
      "outputs": []
    },
    {
      "cell_type": "code",
      "metadata": {
        "id": "QKdQze2EBoW6"
      },
      "source": [
        "X_features = df_encoded.columns"
      ],
      "execution_count": null,
      "outputs": []
    },
    {
      "cell_type": "code",
      "metadata": {
        "colab": {
          "base_uri": "https://localhost:8080/"
        },
        "id": "paOVWEagBwjA",
        "outputId": "d76d3665-0b8b-41d5-e90f-7ff499d694b2"
      },
      "source": [
        "X_features"
      ],
      "execution_count": null,
      "outputs": [
        {
          "output_type": "execute_result",
          "data": {
            "text/plain": [
              "Index(['year', 'kilometers', 'condition_Used', 'transmission_Manual',\n",
              "       'color_Black', 'color_Brown', 'color_Green', 'color_Grey',\n",
              "       'color_Silver', 'color_White', 'pay_method_Cash or Installments',\n",
              "       'pay_method_Installments Only'],\n",
              "      dtype='object')"
            ]
          },
          "metadata": {},
          "execution_count": 29
        }
      ]
    },
    {
      "cell_type": "code",
      "metadata": {
        "id": "aB3PkpyzCAmd"
      },
      "source": [
        "X = sm.add_constant(df_encoded)\n",
        "X_train, X_test, y_train, y_test = train_test_split(X, y, train_size = 0.7, random_state = 42)"
      ],
      "execution_count": null,
      "outputs": []
    },
    {
      "cell_type": "code",
      "metadata": {
        "colab": {
          "base_uri": "https://localhost:8080/",
          "height": 557
        },
        "id": "NxUCuFijCcpW",
        "outputId": "dda04fef-e16a-4a99-a759-2a36facd6e13"
      },
      "source": [
        "model = sm.OLS(y_train, X_train).fit()\n",
        "model.summary2()"
      ],
      "execution_count": null,
      "outputs": [
        {
          "output_type": "execute_result",
          "data": {
            "text/html": [
              "<table class=\"simpletable\">\n",
              "<tr>\n",
              "        <td>Model:</td>               <td>OLS</td>         <td>Adj. R-squared:</td>      <td>0.679</td>  \n",
              "</tr>\n",
              "<tr>\n",
              "  <td>Dependent Variable:</td>       <td>price</td>             <td>AIC:</td>          <td>8675.1360</td>\n",
              "</tr>\n",
              "<tr>\n",
              "         <td>Date:</td>        <td>2021-08-31 11:48</td>        <td>BIC:</td>          <td>8726.7624</td>\n",
              "</tr>\n",
              "<tr>\n",
              "   <td>No. Observations:</td>         <td>392</td>         <td>Log-Likelihood:</td>     <td>-4324.6</td> \n",
              "</tr>\n",
              "<tr>\n",
              "       <td>Df Model:</td>             <td>12</td>           <td>F-statistic:</td>        <td>69.96</td>  \n",
              "</tr>\n",
              "<tr>\n",
              "     <td>Df Residuals:</td>           <td>379</td>       <td>Prob (F-statistic):</td>  <td>2.69e-88</td> \n",
              "</tr>\n",
              "<tr>\n",
              "      <td>R-squared:</td>            <td>0.689</td>            <td>Scale:</td>        <td>2.3147e+08</td>\n",
              "</tr>\n",
              "</table>\n",
              "<table class=\"simpletable\">\n",
              "<tr>\n",
              "                 <td></td>                     <th>Coef.</th>      <th>Std.Err.</th>      <th>t</th>     <th>P>|t|</th>    <th>[0.025</th>        <th>0.975]</th>    \n",
              "</tr>\n",
              "<tr>\n",
              "  <th>const</th>                           <td>-2496081.3623</td> <td>553200.5406</td> <td>-4.5121</td> <td>0.0000</td> <td>-3583808.0373</td> <td>-1408354.6873</td>\n",
              "</tr>\n",
              "<tr>\n",
              "  <th>year</th>                              <td>1263.5257</td>    <td>274.0380</td>   <td>4.6108</td>  <td>0.0000</td>   <td>724.7004</td>      <td>1802.3510</td>  \n",
              "</tr>\n",
              "<tr>\n",
              "  <th>kilometers</th>                         <td>-0.0053</td>      <td>0.0144</td>    <td>-0.3648</td> <td>0.7154</td>    <td>-0.0336</td>       <td>0.0231</td>    \n",
              "</tr>\n",
              "<tr>\n",
              "  <th>condition_Used</th>                   <td>-39686.4549</td>   <td>5172.9378</td>  <td>-7.6719</td> <td>0.0000</td>  <td>-49857.7076</td>   <td>-29515.2023</td> \n",
              "</tr>\n",
              "<tr>\n",
              "  <th>transmission_Manual</th>              <td>-26878.9555</td>   <td>2952.6360</td>  <td>-9.1034</td> <td>0.0000</td>  <td>-32684.5554</td>   <td>-21073.3557</td> \n",
              "</tr>\n",
              "<tr>\n",
              "  <th>color_Black</th>                      <td>43241.6489</td>    <td>5036.6343</td>  <td>8.5854</td>  <td>0.0000</td>  <td>33338.4022</td>    <td>53144.8956</td>  \n",
              "</tr>\n",
              "<tr>\n",
              "  <th>color_Brown</th>                      <td>91631.2539</td>    <td>5928.7480</td>  <td>15.4554</td> <td>0.0000</td>  <td>79973.8948</td>    <td>103288.6130</td> \n",
              "</tr>\n",
              "<tr>\n",
              "  <th>color_Green</th>                       <td>9250.1610</td>    <td>5193.1500</td>  <td>1.7812</td>  <td>0.0757</td>   <td>-960.8337</td>    <td>19461.1557</td>  \n",
              "</tr>\n",
              "<tr>\n",
              "  <th>color_Grey</th>                       <td>14096.1800</td>    <td>4657.2003</td>  <td>3.0267</td>  <td>0.0026</td>   <td>4938.9926</td>    <td>23253.3674</td>  \n",
              "</tr>\n",
              "<tr>\n",
              "  <th>color_Silver</th>                     <td>19473.8384</td>    <td>4735.0291</td>  <td>4.1127</td>  <td>0.0000</td>  <td>10163.6208</td>    <td>28784.0560</td>  \n",
              "</tr>\n",
              "<tr>\n",
              "  <th>color_White</th>                      <td>47679.8615</td>    <td>4619.5487</td>  <td>10.3213</td> <td>0.0000</td>  <td>38596.7063</td>    <td>56763.0166</td>  \n",
              "</tr>\n",
              "<tr>\n",
              "  <th>pay_method_Cash or Installments</th>  <td>-4156.8131</td>    <td>3416.1120</td>  <td>-1.2168</td> <td>0.2244</td>  <td>-10873.7193</td>    <td>2560.0930</td>  \n",
              "</tr>\n",
              "<tr>\n",
              "  <th>pay_method_Installments Only</th>     <td>-22655.4764</td>   <td>3466.1536</td>  <td>-6.5362</td> <td>0.0000</td>  <td>-29470.7766</td>   <td>-15840.1762</td> \n",
              "</tr>\n",
              "</table>\n",
              "<table class=\"simpletable\">\n",
              "<tr>\n",
              "     <td>Omnibus:</td>    <td>1.584</td>  <td>Durbin-Watson:</td>     <td>1.972</td>  \n",
              "</tr>\n",
              "<tr>\n",
              "  <td>Prob(Omnibus):</td> <td>0.453</td> <td>Jarque-Bera (JB):</td>   <td>1.672</td>  \n",
              "</tr>\n",
              "<tr>\n",
              "       <td>Skew:</td>     <td>0.144</td>     <td>Prob(JB):</td>       <td>0.434</td>  \n",
              "</tr>\n",
              "<tr>\n",
              "     <td>Kurtosis:</td>   <td>2.859</td>  <td>Condition No.:</td>   <td>103123595</td>\n",
              "</tr>\n",
              "</table>"
            ],
            "text/plain": [
              "<class 'statsmodels.iolib.summary2.Summary'>\n",
              "\"\"\"\n",
              "                                  Results: Ordinary least squares\n",
              "====================================================================================================\n",
              "Model:                         OLS                         Adj. R-squared:                0.679     \n",
              "Dependent Variable:            price                       AIC:                           8675.1360 \n",
              "Date:                          2021-08-31 11:48            BIC:                           8726.7624 \n",
              "No. Observations:              392                         Log-Likelihood:                -4324.6   \n",
              "Df Model:                      12                          F-statistic:                   69.96     \n",
              "Df Residuals:                  379                         Prob (F-statistic):            2.69e-88  \n",
              "R-squared:                     0.689                       Scale:                         2.3147e+08\n",
              "----------------------------------------------------------------------------------------------------\n",
              "                                    Coef.       Std.Err.     t    P>|t|      [0.025        0.975]   \n",
              "----------------------------------------------------------------------------------------------------\n",
              "const                           -2496081.3623 553200.5406 -4.5121 0.0000 -3583808.0373 -1408354.6873\n",
              "year                                1263.5257    274.0380  4.6108 0.0000      724.7004     1802.3510\n",
              "kilometers                            -0.0053      0.0144 -0.3648 0.7154       -0.0336        0.0231\n",
              "condition_Used                    -39686.4549   5172.9378 -7.6719 0.0000   -49857.7076   -29515.2023\n",
              "transmission_Manual               -26878.9555   2952.6360 -9.1034 0.0000   -32684.5554   -21073.3557\n",
              "color_Black                        43241.6489   5036.6343  8.5854 0.0000    33338.4022    53144.8956\n",
              "color_Brown                        91631.2539   5928.7480 15.4554 0.0000    79973.8948   103288.6130\n",
              "color_Green                         9250.1610   5193.1500  1.7812 0.0757     -960.8337    19461.1557\n",
              "color_Grey                         14096.1800   4657.2003  3.0267 0.0026     4938.9926    23253.3674\n",
              "color_Silver                       19473.8384   4735.0291  4.1127 0.0000    10163.6208    28784.0560\n",
              "color_White                        47679.8615   4619.5487 10.3213 0.0000    38596.7063    56763.0166\n",
              "pay_method_Cash or Installments    -4156.8131   3416.1120 -1.2168 0.2244   -10873.7193     2560.0930\n",
              "pay_method_Installments Only      -22655.4764   3466.1536 -6.5362 0.0000   -29470.7766   -15840.1762\n",
              "----------------------------------------------------------------------------------------------------\n",
              "Omnibus:                         1.584                  Durbin-Watson:                     1.972    \n",
              "Prob(Omnibus):                   0.453                  Jarque-Bera (JB):                  1.672    \n",
              "Skew:                            0.144                  Prob(JB):                          0.434    \n",
              "Kurtosis:                        2.859                  Condition No.:                     103123595\n",
              "====================================================================================================\n",
              "* The condition number is large (1e+08). This might indicate             strong multicollinearity or\n",
              "other numerical problems.\n",
              "\"\"\""
            ]
          },
          "metadata": {},
          "execution_count": 31
        }
      ]
    },
    {
      "cell_type": "code",
      "metadata": {
        "id": "X0YqGdbY7pcj"
      },
      "source": [
        "from statsmodels.stats.outliers_influence import variance_inflation_factor\n",
        "\n",
        "def get_vif_factors(X):\n",
        "  X_matrix = X.values\n",
        "  vif = [variance_inflation_factor(X_matrix, i) for i in range (X_matrix.shape[1])]\n",
        "  vif_factors = pd.DataFrame()\n",
        "  vif_factors['column'] = X.columns\n",
        "  vif_factors['VIF'] = vif\n",
        "\n",
        "  return vif_factors\n",
        "\n",
        "#note: as_matrix() has been discontinued. values() is the correct function"
      ],
      "execution_count": null,
      "outputs": []
    },
    {
      "cell_type": "code",
      "metadata": {
        "colab": {
          "base_uri": "https://localhost:8080/",
          "height": 461
        },
        "id": "efpPhdpY_vAJ",
        "outputId": "1063c49b-fe79-4b6a-8e43-c839c577fbe6"
      },
      "source": [
        "X"
      ],
      "execution_count": null,
      "outputs": [
        {
          "output_type": "execute_result",
          "data": {
            "text/html": [
              "<div>\n",
              "<style scoped>\n",
              "    .dataframe tbody tr th:only-of-type {\n",
              "        vertical-align: middle;\n",
              "    }\n",
              "\n",
              "    .dataframe tbody tr th {\n",
              "        vertical-align: top;\n",
              "    }\n",
              "\n",
              "    .dataframe thead th {\n",
              "        text-align: right;\n",
              "    }\n",
              "</style>\n",
              "<table border=\"1\" class=\"dataframe\">\n",
              "  <thead>\n",
              "    <tr style=\"text-align: right;\">\n",
              "      <th></th>\n",
              "      <th>const</th>\n",
              "      <th>year</th>\n",
              "      <th>kilometers</th>\n",
              "      <th>condition_Used</th>\n",
              "      <th>transmission_Manual</th>\n",
              "      <th>color_Black</th>\n",
              "      <th>color_Brown</th>\n",
              "      <th>color_Green</th>\n",
              "      <th>color_Grey</th>\n",
              "      <th>color_Silver</th>\n",
              "      <th>color_White</th>\n",
              "      <th>pay_method_Cash or Installments</th>\n",
              "      <th>pay_method_Installments Only</th>\n",
              "    </tr>\n",
              "  </thead>\n",
              "  <tbody>\n",
              "    <tr>\n",
              "      <th>0</th>\n",
              "      <td>1.0</td>\n",
              "      <td>2019</td>\n",
              "      <td>14999.5</td>\n",
              "      <td>1</td>\n",
              "      <td>0</td>\n",
              "      <td>0</td>\n",
              "      <td>0</td>\n",
              "      <td>0</td>\n",
              "      <td>0</td>\n",
              "      <td>0</td>\n",
              "      <td>1</td>\n",
              "      <td>1</td>\n",
              "      <td>0</td>\n",
              "    </tr>\n",
              "    <tr>\n",
              "      <th>1</th>\n",
              "      <td>1.0</td>\n",
              "      <td>2006</td>\n",
              "      <td>0.0</td>\n",
              "      <td>1</td>\n",
              "      <td>0</td>\n",
              "      <td>0</td>\n",
              "      <td>0</td>\n",
              "      <td>0</td>\n",
              "      <td>1</td>\n",
              "      <td>0</td>\n",
              "      <td>0</td>\n",
              "      <td>0</td>\n",
              "      <td>0</td>\n",
              "    </tr>\n",
              "    <tr>\n",
              "      <th>2</th>\n",
              "      <td>1.0</td>\n",
              "      <td>2014</td>\n",
              "      <td>24999.5</td>\n",
              "      <td>1</td>\n",
              "      <td>0</td>\n",
              "      <td>0</td>\n",
              "      <td>0</td>\n",
              "      <td>0</td>\n",
              "      <td>0</td>\n",
              "      <td>0</td>\n",
              "      <td>1</td>\n",
              "      <td>0</td>\n",
              "      <td>1</td>\n",
              "    </tr>\n",
              "    <tr>\n",
              "      <th>3</th>\n",
              "      <td>1.0</td>\n",
              "      <td>2010</td>\n",
              "      <td>200000.0</td>\n",
              "      <td>1</td>\n",
              "      <td>0</td>\n",
              "      <td>0</td>\n",
              "      <td>0</td>\n",
              "      <td>0</td>\n",
              "      <td>0</td>\n",
              "      <td>0</td>\n",
              "      <td>1</td>\n",
              "      <td>0</td>\n",
              "      <td>0</td>\n",
              "    </tr>\n",
              "    <tr>\n",
              "      <th>4</th>\n",
              "      <td>1.0</td>\n",
              "      <td>2018</td>\n",
              "      <td>5000.0</td>\n",
              "      <td>1</td>\n",
              "      <td>0</td>\n",
              "      <td>0</td>\n",
              "      <td>0</td>\n",
              "      <td>0</td>\n",
              "      <td>1</td>\n",
              "      <td>0</td>\n",
              "      <td>0</td>\n",
              "      <td>0</td>\n",
              "      <td>0</td>\n",
              "    </tr>\n",
              "    <tr>\n",
              "      <th>...</th>\n",
              "      <td>...</td>\n",
              "      <td>...</td>\n",
              "      <td>...</td>\n",
              "      <td>...</td>\n",
              "      <td>...</td>\n",
              "      <td>...</td>\n",
              "      <td>...</td>\n",
              "      <td>...</td>\n",
              "      <td>...</td>\n",
              "      <td>...</td>\n",
              "      <td>...</td>\n",
              "      <td>...</td>\n",
              "      <td>...</td>\n",
              "    </tr>\n",
              "    <tr>\n",
              "      <th>555</th>\n",
              "      <td>1.0</td>\n",
              "      <td>2012</td>\n",
              "      <td>200000.0</td>\n",
              "      <td>1</td>\n",
              "      <td>0</td>\n",
              "      <td>0</td>\n",
              "      <td>0</td>\n",
              "      <td>0</td>\n",
              "      <td>1</td>\n",
              "      <td>0</td>\n",
              "      <td>0</td>\n",
              "      <td>0</td>\n",
              "      <td>0</td>\n",
              "    </tr>\n",
              "    <tr>\n",
              "      <th>556</th>\n",
              "      <td>1.0</td>\n",
              "      <td>2015</td>\n",
              "      <td>44999.5</td>\n",
              "      <td>1</td>\n",
              "      <td>0</td>\n",
              "      <td>0</td>\n",
              "      <td>0</td>\n",
              "      <td>0</td>\n",
              "      <td>0</td>\n",
              "      <td>0</td>\n",
              "      <td>0</td>\n",
              "      <td>0</td>\n",
              "      <td>0</td>\n",
              "    </tr>\n",
              "    <tr>\n",
              "      <th>557</th>\n",
              "      <td>1.0</td>\n",
              "      <td>2014</td>\n",
              "      <td>114999.5</td>\n",
              "      <td>1</td>\n",
              "      <td>0</td>\n",
              "      <td>0</td>\n",
              "      <td>1</td>\n",
              "      <td>0</td>\n",
              "      <td>0</td>\n",
              "      <td>0</td>\n",
              "      <td>0</td>\n",
              "      <td>0</td>\n",
              "      <td>0</td>\n",
              "    </tr>\n",
              "    <tr>\n",
              "      <th>558</th>\n",
              "      <td>1.0</td>\n",
              "      <td>2013</td>\n",
              "      <td>14999.5</td>\n",
              "      <td>1</td>\n",
              "      <td>1</td>\n",
              "      <td>0</td>\n",
              "      <td>0</td>\n",
              "      <td>0</td>\n",
              "      <td>0</td>\n",
              "      <td>0</td>\n",
              "      <td>1</td>\n",
              "      <td>0</td>\n",
              "      <td>0</td>\n",
              "    </tr>\n",
              "    <tr>\n",
              "      <th>559</th>\n",
              "      <td>1.0</td>\n",
              "      <td>2016</td>\n",
              "      <td>64999.5</td>\n",
              "      <td>1</td>\n",
              "      <td>0</td>\n",
              "      <td>0</td>\n",
              "      <td>0</td>\n",
              "      <td>0</td>\n",
              "      <td>0</td>\n",
              "      <td>0</td>\n",
              "      <td>1</td>\n",
              "      <td>0</td>\n",
              "      <td>0</td>\n",
              "    </tr>\n",
              "  </tbody>\n",
              "</table>\n",
              "<p>560 rows × 13 columns</p>\n",
              "</div>"
            ],
            "text/plain": [
              "     const  year  ...  pay_method_Cash or Installments  pay_method_Installments Only\n",
              "0      1.0  2019  ...                                1                             0\n",
              "1      1.0  2006  ...                                0                             0\n",
              "2      1.0  2014  ...                                0                             1\n",
              "3      1.0  2010  ...                                0                             0\n",
              "4      1.0  2018  ...                                0                             0\n",
              "..     ...   ...  ...                              ...                           ...\n",
              "555    1.0  2012  ...                                0                             0\n",
              "556    1.0  2015  ...                                0                             0\n",
              "557    1.0  2014  ...                                0                             0\n",
              "558    1.0  2013  ...                                0                             0\n",
              "559    1.0  2016  ...                                0                             0\n",
              "\n",
              "[560 rows x 13 columns]"
            ]
          },
          "metadata": {},
          "execution_count": 35
        }
      ]
    },
    {
      "cell_type": "code",
      "metadata": {
        "colab": {
          "base_uri": "https://localhost:8080/",
          "height": 457
        },
        "id": "ibn44Tlr9zC8",
        "outputId": "d932021f-bf34-499f-9eeb-5a295f162a74"
      },
      "source": [
        "vif_factors = get_vif_factors(X)\n",
        "vif_factors"
      ],
      "execution_count": null,
      "outputs": [
        {
          "output_type": "execute_result",
          "data": {
            "text/html": [
              "<div>\n",
              "<style scoped>\n",
              "    .dataframe tbody tr th:only-of-type {\n",
              "        vertical-align: middle;\n",
              "    }\n",
              "\n",
              "    .dataframe tbody tr th {\n",
              "        vertical-align: top;\n",
              "    }\n",
              "\n",
              "    .dataframe thead th {\n",
              "        text-align: right;\n",
              "    }\n",
              "</style>\n",
              "<table border=\"1\" class=\"dataframe\">\n",
              "  <thead>\n",
              "    <tr style=\"text-align: right;\">\n",
              "      <th></th>\n",
              "      <th>column</th>\n",
              "      <th>VIF</th>\n",
              "    </tr>\n",
              "  </thead>\n",
              "  <tbody>\n",
              "    <tr>\n",
              "      <th>0</th>\n",
              "      <td>const</td>\n",
              "      <td>544058.092230</td>\n",
              "    </tr>\n",
              "    <tr>\n",
              "      <th>1</th>\n",
              "      <td>year</td>\n",
              "      <td>2.018478</td>\n",
              "    </tr>\n",
              "    <tr>\n",
              "      <th>2</th>\n",
              "      <td>kilometers</td>\n",
              "      <td>2.399235</td>\n",
              "    </tr>\n",
              "    <tr>\n",
              "      <th>3</th>\n",
              "      <td>condition_Used</td>\n",
              "      <td>1.603593</td>\n",
              "    </tr>\n",
              "    <tr>\n",
              "      <th>4</th>\n",
              "      <td>transmission_Manual</td>\n",
              "      <td>1.449225</td>\n",
              "    </tr>\n",
              "    <tr>\n",
              "      <th>5</th>\n",
              "      <td>color_Black</td>\n",
              "      <td>6.322480</td>\n",
              "    </tr>\n",
              "    <tr>\n",
              "      <th>6</th>\n",
              "      <td>color_Brown</td>\n",
              "      <td>1.977446</td>\n",
              "    </tr>\n",
              "    <tr>\n",
              "      <th>7</th>\n",
              "      <td>color_Green</td>\n",
              "      <td>3.101724</td>\n",
              "    </tr>\n",
              "    <tr>\n",
              "      <th>8</th>\n",
              "      <td>color_Grey</td>\n",
              "      <td>4.523699</td>\n",
              "    </tr>\n",
              "    <tr>\n",
              "      <th>9</th>\n",
              "      <td>color_Silver</td>\n",
              "      <td>4.625746</td>\n",
              "    </tr>\n",
              "    <tr>\n",
              "      <th>10</th>\n",
              "      <td>color_White</td>\n",
              "      <td>8.653090</td>\n",
              "    </tr>\n",
              "    <tr>\n",
              "      <th>11</th>\n",
              "      <td>pay_method_Cash or Installments</td>\n",
              "      <td>1.915329</td>\n",
              "    </tr>\n",
              "    <tr>\n",
              "      <th>12</th>\n",
              "      <td>pay_method_Installments Only</td>\n",
              "      <td>1.322852</td>\n",
              "    </tr>\n",
              "  </tbody>\n",
              "</table>\n",
              "</div>"
            ],
            "text/plain": [
              "                             column            VIF\n",
              "0                             const  544058.092230\n",
              "1                              year       2.018478\n",
              "2                        kilometers       2.399235\n",
              "3                    condition_Used       1.603593\n",
              "4               transmission_Manual       1.449225\n",
              "5                       color_Black       6.322480\n",
              "6                       color_Brown       1.977446\n",
              "7                       color_Green       3.101724\n",
              "8                        color_Grey       4.523699\n",
              "9                      color_Silver       4.625746\n",
              "10                      color_White       8.653090\n",
              "11  pay_method_Cash or Installments       1.915329\n",
              "12     pay_method_Installments Only       1.322852"
            ]
          },
          "metadata": {},
          "execution_count": 36
        }
      ]
    },
    {
      "cell_type": "code",
      "metadata": {
        "id": "cmQun1Nq-b7V"
      },
      "source": [
        "col_with_large_vif = vif_factors[vif_factors.VIF>4].column"
      ],
      "execution_count": null,
      "outputs": []
    },
    {
      "cell_type": "code",
      "metadata": {
        "id": "TPjwD36YALEW",
        "colab": {
          "base_uri": "https://localhost:8080/",
          "height": 349
        },
        "outputId": "67cf4111-05ca-4ef9-d937-b428af79aba0"
      },
      "source": [
        "sn.heatmap(X[col_with_large_vif].corr(), annot=True);\n",
        "plt.title('Heatmap depicting correlation between features')"
      ],
      "execution_count": null,
      "outputs": [
        {
          "output_type": "execute_result",
          "data": {
            "text/plain": [
              "Text(0.5, 1.0, 'Heatmap depicting correlation between features')"
            ]
          },
          "metadata": {},
          "execution_count": 51
        },
        {
          "output_type": "display_data",
          "data": {
            "image/png": "[encoded data removed]",
            "text/plain": [
              "<Figure size 432x288 with 2 Axes>"
            ]
          },
          "metadata": {
            "needs_background": "light"
          }
        }
      ]
    },
    {
      "cell_type": "code",
      "metadata": {
        "colab": {
          "base_uri": "https://localhost:8080/",
          "height": 302
        },
        "id": "ogXzs8iDEJ-V",
        "outputId": "a10801a5-ff92-422c-a874-cc8f4224e740"
      },
      "source": [
        "#Residual: to check normality\n",
        "resid = model.resid\n",
        "probplot = sm.ProbPlot(resid)\n",
        "plt.figure(figsize = (10,10))\n",
        "probplot.ppplot(line = '45')\n",
        "plt.show()"
      ],
      "execution_count": null,
      "outputs": [
        {
          "output_type": "display_data",
          "data": {
            "text/plain": [
              "<Figure size 720x720 with 0 Axes>"
            ]
          },
          "metadata": {}
        },
        {
          "output_type": "display_data",
          "data": {
            "image/png": "[encoded data removed]",
            "text/plain": [
              "<Figure size 432x288 with 1 Axes>"
            ]
          },
          "metadata": {
            "needs_background": "light"
          }
        }
      ]
    },
    {
      "cell_type": "code",
      "metadata": {
        "colab": {
          "base_uri": "https://localhost:8080/",
          "height": 314
        },
        "id": "yPckp-UyFlmy",
        "outputId": "b8c0f548-06bc-4ddc-b86d-f3e69ef22ceb"
      },
      "source": [
        "#Homoskedasticity\n",
        "\n",
        "def get_standardised_values(vals):\n",
        "  return (vals - vals.mean())/vals.std()\n",
        "plt.scatter(get_standardised_values(model.fittedvalues), get_standardised_values(resid))\n",
        "plt.xlabel(\"Standardised predicted values\")\n",
        "plt.title(\"Residual Plot: Car Price\");\n",
        "plt.ylabel('Standardised Residuals')"
      ],
      "execution_count": null,
      "outputs": [
        {
          "output_type": "execute_result",
          "data": {
            "text/plain": [
              "Text(0, 0.5, 'Standardised Residuals')"
            ]
          },
          "metadata": {},
          "execution_count": 47
        },
        {
          "output_type": "display_data",
          "data": {
            "image/png": "[encoded data removed]",
            "text/plain": [
              "<Figure size 432x288 with 1 Axes>"
            ]
          },
          "metadata": {
            "needs_background": "light"
          }
        }
      ]
    },
    {
      "cell_type": "code",
      "metadata": {
        "colab": {
          "base_uri": "https://localhost:8080/",
          "height": 418
        },
        "id": "vZIcXC9OFmzD",
        "outputId": "e87c524a-eed4-4186-c148-efb1aeeb2e44"
      },
      "source": [
        "from statsmodels.graphics.regressionplots import influence_plot\n",
        "\n",
        "fig, ax = plt.subplots( figsize=(8,6) )\n",
        "\n",
        "influence_plot(model, ax = ax )\n",
        "\n",
        "plt.title( \"Figure 4.4 - Leverage Value Vs Residuals\")\n",
        "\n",
        "plt.show();"
      ],
      "execution_count": null,
      "outputs": [
        {
          "output_type": "display_data",
          "data": {
            "image/png": "[encoded data removed]",
            "text/plain": [
              "<Figure size 576x432 with 1 Axes>"
            ]
          },
          "metadata": {
            "needs_background": "light"
          }
        }
      ]
    },
    {
      "cell_type": "code",
      "metadata": {
        "id": "fjero630F6YK"
      },
      "source": [
        ""
      ],
      "execution_count": null,
      "outputs": []
    }
  ]
}